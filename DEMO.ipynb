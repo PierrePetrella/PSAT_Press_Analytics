{
 "cells": [
  {
   "cell_type": "markdown",
   "metadata": {},
   "source": [
    "# P-SAT: DETECTING COMPANY REFERENCES IN THE PRESS"
   ]
  },
  {
   "cell_type": "code",
   "execution_count": 1,
   "metadata": {},
   "outputs": [],
   "source": [
    "# IMPORTS\n",
    "from tools.utility import *\n",
    "from articleClassifier import ArticleClassifier \n",
    "\n",
    "import json\n",
    "from sklearn.model_selection import train_test_split"
   ]
  },
  {
   "cell_type": "markdown",
   "metadata": {},
   "source": [
    "## Fetch Tokenized Cleaned Corpus of Articles"
   ]
  },
  {
   "cell_type": "markdown",
   "metadata": {},
   "source": [
    "### Load Tokenized Corpus"
   ]
  },
  {
   "cell_type": "code",
   "execution_count": 2,
   "metadata": {},
   "outputs": [],
   "source": [
    "PATH = \"./DEMO_data/corpus/\"\n",
    "file = \"cleaned_tokenized_corpus\"\n",
    "with open(PATH + file +\".json\") as json_file: \n",
    "    article_corpus = json.load(json_file) "
   ]
  },
  {
   "cell_type": "markdown",
   "metadata": {},
   "source": [
    "### Count number of articles per company"
   ]
  },
  {
   "cell_type": "code",
   "execution_count": 3,
   "metadata": {},
   "outputs": [],
   "source": [
    "dict_count = dict()\n",
    "for document in article_corpus:\n",
    "    labels = document[\"siren\"]\n",
    "    for siren in labels:\n",
    "        if siren in dict_count.keys():\n",
    "            dict_count[siren] +=1\n",
    "        else:\n",
    "            dict_count[siren] = 1"
   ]
  },
  {
   "cell_type": "markdown",
   "metadata": {},
   "source": [
    "### List companies with more than N articles"
   ]
  },
  {
   "cell_type": "code",
   "execution_count": 4,
   "metadata": {},
   "outputs": [
    {
     "name": "stdout",
     "output_type": "stream",
     "text": [
      "There are 1501 companies with MORE than 5 associated articles\n"
     ]
    }
   ],
   "source": [
    "n_associated_articles = 5\n",
    "siren_filtered =[key for key in dict_count if dict_count[key] > n_associated_articles]\n",
    "print (\"There are\",len(siren_filtered),\"companies with MORE than\",n_associated_articles,\"associated articles\")"
   ]
  },
  {
   "cell_type": "markdown",
   "metadata": {},
   "source": [
    "## Split Corpus into Train and Test sets"
   ]
  },
  {
   "cell_type": "code",
   "execution_count": 5,
   "metadata": {},
   "outputs": [
    {
     "name": "stdout",
     "output_type": "stream",
     "text": [
      "Number of labels removed: 0\n"
     ]
    }
   ],
   "source": [
    "test_size = 0.3\n",
    "X_train_corpus, X_test_corpus = train_test_split(article_corpus, test_size=test_size, random_state=0)\n",
    "X_test_corpus = clean_corpus_labels (X_test_corpus, siren_filtered) # Removing labels we are not considering"
   ]
  },
  {
   "cell_type": "markdown",
   "metadata": {},
   "source": [
    "## Extract Scored Relevant Words from dictionnairy"
   ]
  },
  {
   "cell_type": "markdown",
   "metadata": {},
   "source": [
    "### OPTION 1: generate the relevant words"
   ]
  },
  {
   "cell_type": "raw",
   "metadata": {},
   "source": [
    "corpus = X_train_corpus     # corpus\n",
    "list_siren = siren_filtered # companies kept for the study\n",
    "relevant_words_tfidf = generate_relevant_words_tfidf(corpus,list_siren)\n",
    "#100%|██████████| 1501/1501 [1:21:23<00:00,  2.34s/it] # nouns sublinear_tf"
   ]
  },
  {
   "cell_type": "markdown",
   "metadata": {},
   "source": [
    "### OPTION 2: load pre-generated words"
   ]
  },
  {
   "cell_type": "code",
   "execution_count": 6,
   "metadata": {},
   "outputs": [
    {
     "name": "stdout",
     "output_type": "stream",
     "text": [
      "rw_tfidf_sublinear_tf_1501_companies is loaded successfully\n"
     ]
    }
   ],
   "source": [
    "# load dictionary \n",
    "PATH = \"./DEMO_data/relevant_words/\"\n",
    "file = \"rw_tfidf_sublinear_tf_1501_companies\"\n",
    "a_file = open(PATH + file + \".json\", \"r\")\n",
    "relevant_words_tfidf = json.load(a_file)\n",
    "print (file,\"is loaded successfully\") "
   ]
  },
  {
   "cell_type": "code",
   "execution_count": 7,
   "metadata": {},
   "outputs": [
    {
     "name": "stdout",
     "output_type": "stream",
     "text": [
      "We will be considering 1501 companies\n"
     ]
    }
   ],
   "source": [
    "# Keep only labels we want to predict\n",
    "rw_dict = dict()\n",
    "for siren in siren_filtered:\n",
    "    if siren in relevant_words_tfidf.keys(): # always\n",
    "        rw_dict[siren] = relevant_words_tfidf[siren]\n",
    "relevant_words_tfidf = rw_dict\n",
    "\n",
    "print(\"We will be considering\",len(relevant_words_tfidf.keys()),\"companies\")"
   ]
  },
  {
   "cell_type": "markdown",
   "metadata": {},
   "source": [
    "## Predict Companies of the Test Set"
   ]
  },
  {
   "cell_type": "code",
   "execution_count": 11,
   "metadata": {},
   "outputs": [
    {
     "name": "stdout",
     "output_type": "stream",
     "text": [
      "Predictions on Test Set Complete\n"
     ]
    }
   ],
   "source": [
    "# HYPERPARAMETERS\n",
    "related_words = relevant_words_tfidf #model related words\n",
    "corpus = X_test_corpus[:1000]\n",
    "min_score = 0.9\n",
    "n_sig_words = 3\n",
    "t = 250\n",
    "max_n_pred = None\n",
    "criterion = \"T\"\n",
    "\n",
    "# FIT and PREDICT of ArticleClassifier model\n",
    "ac_model = ArticleClassifier(n_sig_words,min_score ,t) # Init Article Classifier \n",
    "ac_model.fit(related_words)    # fit related words\n",
    "predictions = ac_model.predict(corpus,max_n_pred, criterion) # evaluate corpus\n",
    "print (\"Predictions on Test Set Complete\")"
   ]
  },
  {
   "cell_type": "markdown",
   "metadata": {},
   "source": [
    "## Evaluate Prediction"
   ]
  },
  {
   "cell_type": "code",
   "execution_count": 12,
   "metadata": {},
   "outputs": [
    {
     "name": "stdout",
     "output_type": "stream",
     "text": [
      "min_score : 0.9\n",
      "n_sig_words : 3\n",
      "t : 250\n",
      "Number of test articles : 1000\n",
      "Score 1: 0.768 (with at least ONE label predicted)\n",
      "Score 2: 0.715 (with ALL labels predicted)\n",
      "Score 3: 0.715 (with ALL labels predicted in the FIRST predictions)\n",
      "Score 4: 0.766 (Number of correct predictions over total number of predictions overall)\n",
      "Average number of predictions 1.002 vs average number of labels : 1.089\n",
      "The siren that is predicted the most is: 542107651 ( 8 times)\n",
      "\n",
      "######################### For Each company #########################\n",
      "AVG ACCURACY : 0.703 True_pos/Pos -> average for each siren\n",
      "AVG PRECISION: 0.721 True_pos/(True_Pos + False_Pos) -> average for each siren\n",
      "AVG RECALL   : 0.703 True_pos/(True_Pos + False_Neg) -> average for each siren\n",
      "AVG F1 score : 0.696 combination of precision and recall -> average for each siren\n",
      "\n",
      "######################### For Each article #########################\n",
      "AVG PRECISION: 0.767 #correct_predictions/#predictions-> average for each article\n",
      "AVG RECALL   : 0.739 #predicted_labels/#labels -> average for each article\n",
      "AVG alpha eval: 0.85 prediction score of an article -> average for each article\n"
     ]
    }
   ],
   "source": [
    "ac_model.evaluate()\n",
    "ac_model.print_eval(verbose = 2) # verbose = 0,1,2"
   ]
  },
  {
   "cell_type": "code",
   "execution_count": 13,
   "metadata": {},
   "outputs": [
    {
     "data": {
      "text/plain": [
       "Text(0.5, 1.0, 'recall hist (on each article)')"
      ]
     },
     "execution_count": 13,
     "metadata": {},
     "output_type": "execute_result"
    },
    {
     "data": {
      "image/png": "[encoded data removed]",
      "text/plain": [
       "<Figure size 1080x720 with 4 Axes>"
      ]
     },
     "metadata": {
      "needs_background": "light"
     },
     "output_type": "display_data"
    },
    {
     "data": {
      "image/png": "[encoded data removed]",
      "text/plain": [
       "<Figure size 1080x720 with 3 Axes>"
      ]
     },
     "metadata": {
      "needs_background": "light"
     },
     "output_type": "display_data"
    }
   ],
   "source": [
    "plt.figure(1,figsize=(15,10))\n",
    "plt.subplot(2, 2, 1)\n",
    "plt.hist(ac_model.company_precision_list, range = (0, 1), bins = 20, color = 'yellow',edgecolor = 'red')\n",
    "plt.xlabel('precision')\n",
    "plt.ylabel('count')\n",
    "plt.title('Company Precision hist')\n",
    "plt.subplot(2, 2, 2)\n",
    "plt.hist(ac_model.company_recall_list, range = (0, 1), bins = 20, color = 'yellow',edgecolor = 'red')\n",
    "plt.xlabel('recall')\n",
    "plt.ylabel('count')\n",
    "plt.title('Company Recall hist')\n",
    "plt.subplot(2, 2, 3)\n",
    "plt.hist(ac_model.company_accuracy_list, range = (0, 1), bins = 20, color = 'yellow',edgecolor = 'red')\n",
    "plt.xlabel('accuracy')\n",
    "plt.ylabel('count')\n",
    "plt.title('Company Accuracy hist')\n",
    "plt.subplot(2, 2, 4)\n",
    "plt.hist(ac_model.company_F1score_list, range = (0, 1), bins = 20, color = 'yellow',edgecolor = 'red')\n",
    "plt.xlabel('F1score')\n",
    "plt.ylabel('count')\n",
    "plt.title('Company F1score hist')\n",
    "plt.figure(2,figsize=(15,10))\n",
    "plt.subplot(2, 2, 1)\n",
    "plt.hist(ac_model.alpha_eval_list, range = (0, 1), bins = 20, color = 'yellow',edgecolor = 'red')\n",
    "plt.xlabel('alpha_eval')\n",
    "plt.ylabel('count')\n",
    "plt.title('alpha_eval hist (on each article)')\n",
    "plt.subplot(2, 2, 2)\n",
    "plt.hist(ac_model.article_precision_list, range = (0, 1), bins = 20, color = 'yellow',edgecolor = 'red')\n",
    "plt.xlabel('article precision')\n",
    "plt.ylabel('count')\n",
    "plt.title('precision hist (on each article)')\n",
    "plt.subplot(2, 2, 3)\n",
    "plt.hist(ac_model.article_recall_list, range = (0, 1), bins = 20, color = 'yellow',edgecolor = 'red')\n",
    "plt.xlabel('article recall')\n",
    "plt.ylabel('count')\n",
    "plt.title('recall hist (on each article)')"
   ]
  },
  {
   "cell_type": "raw",
   "metadata": {},
   "source": [
    "5 Articles: T criterion\n",
    "\n",
    "min_score : 0.9\n",
    "n_sig_words : 3\n",
    "t : 250\n",
    "Number of test articles : 1000\n",
    "Score 1: 0.768 (with at least ONE label predicted)\n",
    "Score 2: 0.715 (with ALL labels predicted)\n",
    "Score 3: 0.715 (with ALL labels predicted in the FIRST predictions)\n",
    "Score 4: 0.766 (Number of correct predictions over total number of predictions overall)\n",
    "Average number of predictions 1.002 vs average number of labels : 1.089\n",
    "The siren that is predicted the most is: 542107651 ( 8 times)\n",
    "\n",
    "######################### For Each company #########################\n",
    "AVG ACCURACY : 0.703 True_pos/Pos -> average for each siren\n",
    "AVG PRECISION: 0.721 True_pos/(True_Pos + False_Pos) -> average for each siren\n",
    "AVG RECALL   : 0.703 True_pos/(True_Pos + False_Neg) -> average for each siren\n",
    "AVG F1 score : 0.696 combination of precision and recall -> average for each siren\n",
    "\n",
    "######################### For Each article #########################\n",
    "AVG PRECISION: 0.767 #correct_predictions/#predictions-> average for each article\n",
    "AVG RECALL   : 0.739 #predicted_labels/#labels -> average for each article\n",
    "AVG alpha eval: 0.85 prediction score of an article -> average for each article"
   ]
  },
  {
   "cell_type": "raw",
   "metadata": {},
   "source": [
    "15 Articles: P criterion\n",
    "\n",
    "min_score : 0.6\n",
    "n_sig_words : 3\n",
    "t : 250\n",
    "Number of test articles : 1000\n",
    "Score 1: 0.436 (with at least ONE label predicted)\n",
    "Score 2: 0.842 (with ALL labels predicted)\n",
    "Score 3: 0.825 (with ALL labels predicted in the FIRST predictions)\n",
    "Score 4: 0.727 (Number of correct predictions over total number of predictions overall)\n",
    "Average number of predictions 0.615 vs average number of labels : 0.613\n",
    "The siren that is predicted the most is: 542107651 ( 8 times)\n",
    "\n",
    "######################### For Each company #########################\n",
    "AVG ACCURACY : 0.743 True_pos/Pos -> average for each siren\n",
    "AVG PRECISION: 0.747 True_pos/(True_Pos + False_Pos) -> average for each siren\n",
    "AVG RECALL   : 0.743 True_pos/(True_Pos + False_Neg) -> average for each siren\n",
    "AVG F1 score : 0.722 combination of precision and recall -> average for each siren\n",
    "\n",
    "######################### For Each article #########################\n",
    "AVG PRECISION: 0.942 #correct_predictions/#predictions-> average for each article\n",
    "AVG RECALL   : 0.861 #predicted_labels/#labels -> average for each article\n",
    "AVG alpha eval: 0.874 prediction score of an article -> average for each article"
   ]
  },
  {
   "cell_type": "markdown",
   "metadata": {},
   "source": [
    "# Demonstrations on ArticleClassifier functionnalities.."
   ]
  },
  {
   "cell_type": "code",
   "execution_count": 36,
   "metadata": {},
   "outputs": [
    {
     "data": {
      "text/plain": [
       "Ellipsis"
      ]
     },
     "execution_count": 36,
     "metadata": {},
     "output_type": "execute_result"
    }
   ],
   "source": [
    "..."
   ]
  },
  {
   "cell_type": "code",
   "execution_count": null,
   "metadata": {},
   "outputs": [],
   "source": []
  }
 ],
 "metadata": {
  "kernelspec": {
   "display_name": "Python 3",
   "language": "python",
   "name": "python3"
  },
  "language_info": {
   "codemirror_mode": {
    "name": "ipython",
    "version": 3
   },
   "file_extension": ".py",
   "mimetype": "text/x-python",
   "name": "python",
   "nbconvert_exporter": "python",
   "pygments_lexer": "ipython3",
   "version": "3.7.9"
  }
 },
 "nbformat": 4,
 "nbformat_minor": 4
}
